{
 "cells": [
  {
   "cell_type": "code",
   "execution_count": 2,
   "metadata": {},
   "outputs": [
    {
     "name": "stdout",
     "output_type": "stream",
     "text": [
      "Create abc ab\n",
      "aabb c is abc ab, abc ab already exists\n",
      "Create aab,bc\n",
      "aa,bbc is aab,bc, aab,bc already exists\n",
      "AA,BBC is aab,bc, aab,bc already exists\n",
      "Create aa bb c\n"
     ]
    }
   ],
   "source": [
    "# 小明上菜啦 II\n",
    "d = set()\n",
    "sorted_d = {}\n",
    "def check(new):\n",
    "    new_l = new.lower()\n",
    "    new_sorted = \"\".join(sorted(new_l))\n",
    "    if new in d:\n",
    "        return f\"{new} already exists\"\n",
    "    if new_sorted in sorted_d:\n",
    "        return f\"{new} is {sorted_d[new_sorted]}, {sorted_d[new_sorted]} already exists\"\n",
    "    d.add(new)\n",
    "    sorted_d[new_sorted] = new\n",
    "    return f\"Create {new}\"\n",
    "\n",
    "inputs = []\n",
    "while True:\n",
    "    try:\n",
    "        new = input()\n",
    "    except EOFError:\n",
    "        break\n",
    "    if new == \"\":\n",
    "        break\n",
    "    inputs.append(new)\n",
    "# 提示: 全部讀完之後再一起處理\n",
    "for new in inputs:\n",
    "    print(check(new))\n",
    "    \n"
   ]
  },
  {
   "cell_type": "code",
   "execution_count": 6,
   "metadata": {},
   "outputs": [
    {
     "name": "stdout",
     "output_type": "stream",
     "text": [
      "[523669010, 276189240, 1186616700, 625407500]\n"
     ]
    }
   ],
   "source": [
    "# 矩陣相乘\n",
    "n = int(input())\n",
    "l = []\n",
    "for i in range(n):\n",
    "    s = [int(a) for a in input().split()]\n",
    "    l.append(s)\n",
    "def calculate_matrix(l):\n",
    "    result = l[0]\n",
    "    for i in range(1,n):\n",
    "        a = result\n",
    "        b = l[i]\n",
    "        temp_result = [0, 0, 0, 0]\n",
    "        temp_result[0] = a[0]*b[0]+a[1]*b[2]\n",
    "        temp_result[1] = a[0]*b[1]+a[1]*b[3]\n",
    "        temp_result[2] = a[2]*b[0]+a[3]*b[2]\n",
    "        temp_result[3] = a[2]*b[1]+a[3]*b[3]\n",
    "        result = temp_result\n",
    "    return result\n",
    "print(calculate_matrix(l))\n"
   ]
  },
  {
   "cell_type": "code",
   "execution_count": 18,
   "metadata": {},
   "outputs": [
    {
     "name": "stdout",
     "output_type": "stream",
     "text": [
      "1;V3\n"
     ]
    }
   ],
   "source": [
    "# 小雷愛攀岩I\n",
    "x, y = map(int, input().split(','))\n",
    "wall = [input() for _ in range(y)]\n",
    "routes = {i: 0 for i in range(9)}\n",
    "\n",
    "for j in range(y):\n",
    "    dot = [int(wall[j][i]) for i in range(x)]\n",
    "    for d in set(dot):\n",
    "        routes[d] += 1\n",
    "\n",
    "road =[f\"V{i}\" for i in range(9) if routes[i] == y]\n",
    "if road:\n",
    "    print(f\"{len(road)};{'/'.join(road)}\")\n",
    "else:\n",
    "    print(\"No valid route\")"
   ]
  },
  {
   "cell_type": "code",
   "execution_count": 10,
   "metadata": {},
   "outputs": [
    {
     "name": "stdout",
     "output_type": "stream",
     "text": [
      "89 B+\n"
     ]
    }
   ],
   "source": [
    "# 小仔算成績\n",
    "grade = {(90,100):\"A+\",(85,89):\"A\",(80,84):\"A-\",(77,79):\"B+\",(73,76):\"B\",(70,72):\"B-\",(67,69):\"C+\",(63,66):\"C\",(60,62):\"C-\",(1,59):\"F\", (0,0):\"X\"}\n",
    "grade_level = sorted(grade.keys(),reverse=True)\n",
    "hw = [int(i) for i in input().split()]\n",
    "def clean_hw(hw):\n",
    "    copy = False\n",
    "    for i in range(len(hw)):\n",
    "        if hw[i] == -1:\n",
    "            hw[i] = 0\n",
    "            copy = True\n",
    "    return hw, copy\n",
    "hw, copy = clean_hw(hw)\n",
    "highest_hw_grades = sorted(hw, reverse=True)[:5]\n",
    "mids = [int(i) for i in input().split()]\n",
    "final = int(input())\n",
    "def calculate_grade(highest_hw_grades, copy, mids, final, grade_level):\n",
    "    mid_max = min(max(mids), 100)\n",
    "    mid_min = min(min(mids), 100)\n",
    "    hw_avg  = min(sum(highest_hw_grades)/len(highest_hw_grades), 100)\n",
    "    final_grade = round(hw_avg*0.5 + mid_max *0.15 + mid_min*0.1 +final*0.25)\n",
    "    for i, (low, high) in enumerate(grade_level):\n",
    "        if low <= final_grade <= high:\n",
    "            current_index = i\n",
    "            break\n",
    "    if copy:\n",
    "        current_index += 2\n",
    "    return final_grade, current_index\n",
    "final_grade, current_index = calculate_grade(highest_hw_grades, copy, mids, final, grade_level)\n",
    "print(final_grade,grade[grade_level[current_index]])\n",
    "    \n"
   ]
  }
 ],
 "metadata": {
  "kernelspec": {
   "display_name": "venv",
   "language": "python",
   "name": "python3"
  },
  "language_info": {
   "codemirror_mode": {
    "name": "ipython",
    "version": 3
   },
   "file_extension": ".py",
   "mimetype": "text/x-python",
   "name": "python",
   "nbconvert_exporter": "python",
   "pygments_lexer": "ipython3",
   "version": "3.9.13"
  }
 },
 "nbformat": 4,
 "nbformat_minor": 2
}
