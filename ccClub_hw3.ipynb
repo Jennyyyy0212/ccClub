{
 "cells": [
  {
   "cell_type": "markdown",
   "metadata": {},
   "source": [
    "## [13-1] 給自己考試\n",
    "Description: 強強最近想要背單字，作為給自己的考試，他用程式建了一個字典，只要輸入英文單字就會回傳對應的中文意思。如果輸入的單字不在字典裡面，就回傳「單字不存在」。\n",
    "\n",
    "Input: 輸入為 2 行，第 1 行為英文單字和中文意思的對應。英文和中文之間以逗號分隔，每個單字之間以空白分隔。第 2 行為要考的英文單字。\n",
    "\n",
    "Output: 輸出為 1 行，為對應的中文意思。如果沒有這個單字，請輸出「單字不存在」。\n",
    "\n",
    "\n"
   ]
  },
  {
   "cell_type": "code",
   "execution_count": 4,
   "metadata": {},
   "outputs": [
    {
     "name": "stdout",
     "output_type": "stream",
     "text": [
      "字典\n"
     ]
    }
   ],
   "source": [
    "def add_dic(string):\n",
    "    words = string.split()\n",
    "    dic = {}\n",
    "    for word in words:\n",
    "        d = word.split(',')\n",
    "        dic[d[0]] = d[1]\n",
    "    return dic\n",
    "\n",
    "list_words = input()\n",
    "find_word = input()\n",
    "new_dic = add_dic(list_words)\n",
    "if find_word in new_dic.keys():\n",
    "    print(new_dic[find_word])\n",
    "else:\n",
    "    print(\"單字不存在\")\n",
    "\n"
   ]
  },
  {
   "cell_type": "markdown",
   "metadata": {},
   "source": [
    "## [15-1] 加法計算機\n",
    "Description: 小明想實作一個有加法功能的計算機，提供使用者輸入兩個整數，最後輸出兩個整數的和。小明想在最後附一個提醒的功能，如果使用者輸入的不是數字，則輸出 \"請輸入阿拉伯數字\" 的提示字串。請你幫小明實作這個計算機吧！\n",
    "\n",
    "Input: 輸入為兩行，分別為兩個整數。\n",
    "\n",
    "Output: 輸出為一行，若使用者輸入為兩個阿拉伯數字，輸出兩整數和；若輸入的不是阿拉伯數字，則輸出 \"請輸入阿拉伯數字\"。\n",
    "\n",
    "\n"
   ]
  },
  {
   "cell_type": "code",
   "execution_count": 8,
   "metadata": {},
   "outputs": [
    {
     "name": "stdout",
     "output_type": "stream",
     "text": [
      "請輸入阿拉伯數字\n"
     ]
    }
   ],
   "source": [
    "n1 = input()\n",
    "n2 = input()\n",
    "try:\n",
    "    print(int(n1) + int(n2))\n",
    "except:\n",
    "    print(\"請輸入阿拉伯數字\")"
   ]
  },
  {
   "cell_type": "markdown",
   "metadata": {},
   "source": [
    "## [15-1] 末三個數字相加\n",
    "Description: 給定一個串列，若串列中末三個元素為整數，請輸出它們的整數和。若末三個元素有其中一個元素不是整數，請輸出 \"資料型態不為整數\" 的提示字串；若串列長度小於 3 ，請輸出 \"串列長度不足\" 的提示字串。\n",
    "\n",
    "Input: 輸入為一行，為數個數字，數字間以空白作為間隔。\n",
    "\n",
    "Output: 輸出為一行，請根據題目敘述輸出結果。\n"
   ]
  },
  {
   "cell_type": "code",
   "execution_count": 14,
   "metadata": {},
   "outputs": [
    {
     "name": "stdout",
     "output_type": "stream",
     "text": [
      "6\n"
     ]
    }
   ],
   "source": [
    "int_list = input()\n",
    "try:\n",
    "    sum =0\n",
    "    if len(int_list.split()) < 3:\n",
    "        raise IndexError\n",
    "    for i in int_list.split()[-1:-4:-1]:\n",
    "        sum += int(i)\n",
    "    print(sum)\n",
    "except IndexError:\n",
    "    print(\"串列長度不足\")\n",
    "except ValueError:\n",
    "    print(\"資料型態不為整數\")"
   ]
  },
  {
   "cell_type": "markdown",
   "metadata": {},
   "source": [
    "## 學號判斷\n",
    "Description: 台大學號的規則為英文字母開頭，接上八個數字，英文字母代表不同的身份別，前兩位數字代表入學年份。\n",
    "\n",
    "舉例來說，B89109039 中 B 代表學士班， 89 代表 89 學年度入學。\n",
    "\n",
    "身份簡易來說可以分成三種， B 代表學士班，R 代表碩士班，D 代表博士班。\n",
    "\n",
    "請你寫一個程式，判斷該學號同學的年級為何。\n",
    "\n",
    "\n",
    "Input: 輸入為一個字串，代表一個學號。\n",
    "\n",
    "Output: 輸出有兩行。\n",
    "\n",
    "第一行為該學號的身份別。\n",
    "\n",
    "第二行為該學號的年級（以 110 學年度為基準），年級最多可為七年級。\n",
    "\n",
    "\n"
   ]
  },
  {
   "cell_type": "code",
   "execution_count": 27,
   "metadata": {},
   "outputs": [
    {
     "name": "stdout",
     "output_type": "stream",
     "text": [
      "學士班\n",
      "三年級\n"
     ]
    }
   ],
   "source": [
    "def student_id(id):\n",
    "    if id[0] == 'B':\n",
    "        print(\"學士班\")\n",
    "    elif id[0] == 'R':\n",
    "        print(\"碩士班\")\n",
    "    else:\n",
    "        print(\"博士班\")\n",
    "    dic = {1: \"一年級\", 2: \"二年級\", 3: \"三年級\", 4: \"四年級\", 5: \"五年級\", 6: \"六年級\", 7: \"七年級\"} \n",
    "    year = 10-int(id[1:3])+1\n",
    "    print(dic[year])\n",
    "\n",
    "i = input()\n",
    "student_id(i)\n"
   ]
  }
 ],
 "metadata": {
  "kernelspec": {
   "display_name": "venv",
   "language": "python",
   "name": "python3"
  },
  "language_info": {
   "codemirror_mode": {
    "name": "ipython",
    "version": 3
   },
   "file_extension": ".py",
   "mimetype": "text/x-python",
   "name": "python",
   "nbconvert_exporter": "python",
   "pygments_lexer": "ipython3",
   "version": "3.9.13"
  }
 },
 "nbformat": 4,
 "nbformat_minor": 2
}
