{
 "cells": [
  {
   "cell_type": "code",
   "execution_count": 3,
   "metadata": {},
   "outputs": [
    {
     "name": "stdout",
     "output_type": "stream",
     "text": [
      "app\n"
     ]
    }
   ],
   "source": [
    "# 8-2：最長字串\n",
    "a =input().split()\n",
    "max = ''\n",
    "for i in a:\n",
    "    if len(i) > len(max):\n",
    "        max = i\n",
    "print(max)"
   ]
  },
  {
   "cell_type": "code",
   "execution_count": 4,
   "metadata": {},
   "outputs": [
    {
     "name": "stdout",
     "output_type": "stream",
     "text": [
      "[False, True, True]\n"
     ]
    }
   ],
   "source": [
    "# 8-3：及格門檻\n",
    "l = input().split()\n",
    "t = int(input())\n",
    "def threshold(l,t):\n",
    "    result = []\n",
    "    for i in l:\n",
    "        if int(i) >= t:\n",
    "            result.append(True)\n",
    "        else:\n",
    "            result.append(False)\n",
    "    return result\n",
    "print(threshold(l,t))"
   ]
  },
  {
   "cell_type": "code",
   "execution_count": 6,
   "metadata": {},
   "outputs": [
    {
     "name": "stdout",
     "output_type": "stream",
     "text": [
      "[10, 30]\n"
     ]
    }
   ],
   "source": [
    "# 8-4：最大公因數\n",
    "l1 = [int(i) for i in input().split()]\n",
    "l2 = [int(i) for i in input().split()]\n",
    "def gcd(l1,l2):\n",
    "    result = []\n",
    "    for i in range(len(l1)):\n",
    "        a = l1[i] if l1[i] > l2[i] else l2[i]\n",
    "        b = l1[i] if l1[i] < l2[i] else l2[i]\n",
    "        while b!= 0:\n",
    "            a,b = b,a%b\n",
    "        result.append(a)\n",
    "    return result\n",
    "print(gcd(l1,l2))\n"
   ]
  },
  {
   "cell_type": "code",
   "execution_count": 13,
   "metadata": {},
   "outputs": [
    {
     "name": "stdout",
     "output_type": "stream",
     "text": [
      "[15, 6, 7]\n"
     ]
    }
   ],
   "source": [
    "# 9-1：數字總和排序\n",
    "num = input().split()\n",
    "def sum_sort(num):\n",
    "    dic = {}\n",
    "    for i in num:\n",
    "        sum = 0\n",
    "        for j in i:\n",
    "            sum += int(j)\n",
    "        dic[i] = sum\n",
    "    sort_n = [int(k) for k, v in sorted(dic.items(),key = lambda item:item[1])]\n",
    "    return sort_n\n",
    "print(sum_sort(num))\n"
   ]
  },
  {
   "cell_type": "code",
   "execution_count": 22,
   "metadata": {},
   "outputs": [
    {
     "name": "stdout",
     "output_type": "stream",
     "text": [
      "['cob', 'btc', 'eth', 'mith']\n"
     ]
    }
   ],
   "source": [
    "# 9-2：字串反轉排序\n",
    "s = input().split()\n",
    "def reverse(s):\n",
    "    s = [i[::-1] for i in s]\n",
    "    sorted_s = sorted(s)\n",
    "    return [i[::-1] for i in sorted_s]\n",
    "print(reverse(s))"
   ]
  },
  {
   "cell_type": "code",
   "execution_count": 24,
   "metadata": {},
   "outputs": [
    {
     "name": "stdout",
     "output_type": "stream",
     "text": [
      "120\n"
     ]
    }
   ],
   "source": [
    "# 10-1：階乘\n",
    "i = int(input())\n",
    "def f(n):\n",
    "    if n == 0:\n",
    "        return 1\n",
    "    elif n ==1:\n",
    "        return 1\n",
    "    else:\n",
    "        return n * f(n-1)\n",
    "    \n",
    "print(f(i))"
   ]
  },
  {
   "cell_type": "code",
   "execution_count": 26,
   "metadata": {},
   "outputs": [
    {
     "name": "stdout",
     "output_type": "stream",
     "text": [
      "3\n"
     ]
    }
   ],
   "source": [
    "# 10-2：自訂費式數列\n",
    "i = int(input())\n",
    "def f(n):\n",
    "    if n == 0:\n",
    "        return 0\n",
    "    elif n ==1:\n",
    "        return 1\n",
    "    elif n ==2:\n",
    "        return 2\n",
    "    else:\n",
    "        return f(n-1)+f(n-2)+f(n-3)\n",
    "    \n",
    "print(f(i))"
   ]
  },
  {
   "cell_type": "code",
   "execution_count": 29,
   "metadata": {},
   "outputs": [
    {
     "name": "stdout",
     "output_type": "stream",
     "text": [
      "1 1\n",
      "2 4\n"
     ]
    }
   ],
   "source": [
    "# 11-1：平方字典\n",
    "i = int(input())\n",
    "n = 1\n",
    "while n <= i:\n",
    "    print(n,n**2)\n",
    "    n+=1"
   ]
  },
  {
   "cell_type": "code",
   "execution_count": 41,
   "metadata": {},
   "outputs": [
    {
     "name": "stdout",
     "output_type": "stream",
     "text": [
      "a1 e1 l1 p2 \n"
     ]
    }
   ],
   "source": [
    "# 11-2：字串字典\n",
    "s = input()\n",
    "dic = {}\n",
    "for t in s:\n",
    "    if t.isalpha():\n",
    "        i = t.lower() \n",
    "        if i not in dic.keys():\n",
    "            dic[i] = 1\n",
    "        else:\n",
    "            dic[i]+=1\n",
    "sorted_dic = [k for k in sorted(dic)]\n",
    "output = \"\"\n",
    "for i in sorted_dic:\n",
    "    output = output + i + str(dic[i]) + \" \"\n",
    "print(output)\n"
   ]
  },
  {
   "cell_type": "code",
   "execution_count": 44,
   "metadata": {},
   "outputs": [
    {
     "name": "stdout",
     "output_type": "stream",
     "text": [
      "0 0 0\n",
      "0 0 0\n",
      "0 0 0\n",
      "0 0 0\n"
     ]
    }
   ],
   "source": [
    "# 綜合1-1：Three Sum\n",
    "n = [int(i) for i in input().split()]\n",
    "for i in range(0,len(n)):\n",
    "    for j in range(i+1,len(n)):\n",
    "        for k in range(j+1,len(n)):\n",
    "            if n[i] + n[j] + n[k] == 0:\n",
    "                print(n[i], n[j], n[k])"
   ]
  },
  {
   "cell_type": "code",
   "execution_count": 15,
   "metadata": {},
   "outputs": [
    {
     "name": "stdout",
     "output_type": "stream",
     "text": [
      "elppa\n"
     ]
    }
   ],
   "source": [
    "s = 'apple'\n",
    "print(s[::-1])"
   ]
  }
 ],
 "metadata": {
  "kernelspec": {
   "display_name": "venv",
   "language": "python",
   "name": "python3"
  },
  "language_info": {
   "codemirror_mode": {
    "name": "ipython",
    "version": 3
   },
   "file_extension": ".py",
   "mimetype": "text/x-python",
   "name": "python",
   "nbconvert_exporter": "python",
   "pygments_lexer": "ipython3",
   "version": "3.9.13"
  }
 },
 "nbformat": 4,
 "nbformat_minor": 2
}
