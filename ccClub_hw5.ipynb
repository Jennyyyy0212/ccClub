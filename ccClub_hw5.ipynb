{
 "cells": [
  {
   "cell_type": "code",
   "execution_count": 1,
   "metadata": {},
   "outputs": [
    {
     "name": "stdout",
     "output_type": "stream",
     "text": [
      "a-b-c\n"
     ]
    }
   ],
   "source": [
    "lines = []\n",
    "while True:\n",
    "    try:\n",
    "        line = input()\n",
    "        if line:\n",
    "            lines.append(line)\n",
    "        else:\n",
    "            break\n",
    "    except EOFError:\n",
    "        break\n",
    "\n",
    "print(\"-\".join(lines))"
   ]
  },
  {
   "cell_type": "code",
   "execution_count": 2,
   "metadata": {},
   "outputs": [
    {
     "name": "stdout",
     "output_type": "stream",
     "text": [
      "a-b-c\n"
     ]
    }
   ],
   "source": [
    "lines = []\n",
    "line = input()\n",
    "while line != \"\":\n",
    "    lines.append(line)\n",
    "    line = input()\n",
    "print(\"-\".join(lines))"
   ]
  },
  {
   "cell_type": "code",
   "execution_count": 34,
   "metadata": {},
   "outputs": [
    {
     "name": "stdout",
     "output_type": "stream",
     "text": [
      "c\n"
     ]
    }
   ],
   "source": [
    "# 小仔打羽球\n",
    "def switch_side(score, current_player):\n",
    "    if score %2 == 0:\n",
    "        return current_player\n",
    "    else:\n",
    "        if current_player == \"a\":\n",
    "            return \"b\"\n",
    "        elif current_player == \"b\":\n",
    "            return \"a\"\n",
    "        elif current_player == \"c\":\n",
    "            return \"d\"\n",
    "        elif current_player == \"d\":\n",
    "            return \"c\"\n",
    "\n",
    "def next_player(player,scores,team_score):\n",
    "    for score in scores:\n",
    "        if score == 0:\n",
    "            \n",
    "            if player == 'a' or player == 'b':\n",
    "                player = switch_side(team_score[0], player)\n",
    "            else:\n",
    "                player = switch_side(team_score[1], player)\n",
    "            team_score[0] +=1\n",
    "        else:\n",
    "            \n",
    "            if player == 'c' or player == 'd':\n",
    "                player = switch_side(team_score[1], player)\n",
    "            else:\n",
    "                player = switch_side(team_score[0], player)\n",
    "            team_score[1] +=1\n",
    "    return player\n",
    "\n",
    "team = input()\n",
    "if team == \"ab\":\n",
    "    current_player = 'a'\n",
    "else:\n",
    "    current_player = 'd'\n",
    "team_score = [0,0]\n",
    "scores = [int(i) for i in input()]\n",
    "print(next_player(current_player,scores,team_score))"
   ]
  },
  {
   "cell_type": "code",
   "execution_count": null,
   "metadata": {},
   "outputs": [],
   "source": []
  },
  {
   "cell_type": "code",
   "execution_count": 38,
   "metadata": {},
   "outputs": [
    {
     "name": "stdout",
     "output_type": "stream",
     "text": [
      "c\n"
     ]
    }
   ],
   "source": [
    "# 小仔打羽球\n",
    "team = input()\n",
    "scores = [int(i) for i in input()]\n",
    "\n",
    "team_scores = {'ab': 0, 'cd': 0}\n",
    "servers = {'ab': \"none\", 'cd': \"none\"}\n",
    "location = {'a': 'R', 'b': 'L', 'c': 'L', 'd': 'R',\"none\":\"none\"}\n",
    "if team == 'ab':\n",
    "    servers[team] = \"a\"\n",
    "else:\n",
    "    servers[team] = \"d\"\n",
    "\n",
    "\n",
    "for score in scores:\n",
    "    if score == 0:\n",
    "        team_scores['ab']+=1\n",
    "        team = \"ab\"\n",
    "        if team_scores['ab'] %2 == 1:\n",
    "            if location[servers['ab']] == \"R\":\n",
    "                temp = location['a']\n",
    "                location['a'] = location['b']\n",
    "                location['b'] = temp\n",
    "            else:\n",
    "                servers['ab'] = \"b\" if location['b'] == \"L\" else \"a\"\n",
    "                servers['cd'] = \"none\"\n",
    "        else:\n",
    "            if location[servers['ab']] == \"L\":\n",
    "                temp = location['a']\n",
    "                location['a'] = location['b']\n",
    "                location['b'] = temp\n",
    "            else:\n",
    "                servers['ab'] = \"b\" if location['b'] == \"R\" else \"a\"\n",
    "                servers['cd'] = \"none\"\n",
    "\n",
    "    else:\n",
    "        team = \"cd\"\n",
    "        team_scores['cd']+=1\n",
    "        if team_scores['cd'] %2 == 1:\n",
    "            if location[servers['cd']] == \"R\":\n",
    "                temp = location['c']\n",
    "                location['c'] = location['d']\n",
    "                location['d'] = temp\n",
    "            else:\n",
    "                servers['cd'] = \"c\" if location['c'] == \"L\" else \"d\"\n",
    "                servers['ab'] = \"none\"\n",
    "        else:\n",
    "            if location[servers['cd']] == \"L\":\n",
    "                temp = location['c']\n",
    "                location['c'] = location['d']\n",
    "                location['d'] = temp\n",
    "            else:\n",
    "                servers['cd'] = \"c\" if location['c'] == \"R\" else \"d\"\n",
    "                servers['ab'] = \"none\"\n",
    "\n",
    "print(servers[team])"
   ]
  },
  {
   "cell_type": "code",
   "execution_count": 7,
   "metadata": {},
   "outputs": [
    {
     "name": "stdout",
     "output_type": "stream",
     "text": [
      "溫和的大蜥蜴 5 2\n"
     ]
    }
   ],
   "source": [
    "# 小明打魯石\n",
    "a = input().split()\n",
    "b = input().split()\n",
    "a[2] = int(a[2])\n",
    "b[2] = int(b[2])\n",
    "while a[2]> 0 and b[2] > 0:\n",
    "    a[2] -= int(b[1])\n",
    "    b[2] -= int(a[1])\n",
    "if  a[2] <= 0 and b[2] <= 0:\n",
    "    print(\"tie\")\n",
    "elif a[2] < 0:\n",
    "    print(\" \".join([b[0], b[1], str(b[2])]))\n",
    "else:\n",
    "    print(\" \".join([a[0], a[1], str(a[2])]))"
   ]
  },
  {
   "cell_type": "code",
   "execution_count": 12,
   "metadata": {},
   "outputs": [
    {
     "name": "stdout",
     "output_type": "stream",
     "text": [
      "1540\n",
      "899\n",
      "441\n",
      "1198\n"
     ]
    }
   ],
   "source": [
    "# 小華的抽籤程式\n",
    "import random\n",
    "n = input().split()\n",
    "rseed, people = int(n[0]), int(n[1])\n",
    "random.seed(rseed)\n",
    "a, b, c= random.randrange(1,1000000000), random.randrange(1,1000000000), random.randrange(1,10000)\n",
    "ri = rseed\n",
    "for i in range(0,people):\n",
    "    ri = (a*ri+b) % c\n",
    "    print(ri)"
   ]
  }
 ],
 "metadata": {
  "kernelspec": {
   "display_name": "venv",
   "language": "python",
   "name": "python3"
  },
  "language_info": {
   "codemirror_mode": {
    "name": "ipython",
    "version": 3
   },
   "file_extension": ".py",
   "mimetype": "text/x-python",
   "name": "python",
   "nbconvert_exporter": "python",
   "pygments_lexer": "ipython3",
   "version": "3.9.13"
  }
 },
 "nbformat": 4,
 "nbformat_minor": 2
}
