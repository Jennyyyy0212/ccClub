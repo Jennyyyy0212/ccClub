{
 "cells": [
  {
   "cell_type": "markdown",
   "metadata": {},
   "source": [
    "# 最大平方數\n",
    "Description: 請實作一個函式 square_check，這個函式會回傳小於參數 n 的最大的平方數（n 必定大於 0 ）。\n",
    "\n",
    "Input: 輸入為一數字\n",
    "\n",
    "Output: 函式在符合條件才有回傳值，型態為整數。\n"
   ]
  },
  {
   "cell_type": "code",
   "execution_count": 1,
   "metadata": {},
   "outputs": [],
   "source": [
    "import math"
   ]
  },
  {
   "cell_type": "code",
   "execution_count": 35,
   "metadata": {},
   "outputs": [
    {
     "data": {
      "text/plain": [
       "64"
      ]
     },
     "execution_count": 35,
     "metadata": {},
     "output_type": "execute_result"
    }
   ],
   "source": [
    "def square_check(x):\n",
    "    if x > 0:\n",
    "        max_square = int(x ** 0.5)\n",
    "        if max_square ** 2 == x:\n",
    "            max_square -= 1\n",
    "        return int(max_square ** 2)\n",
    "\n",
    "n = int(input())\n",
    "print(square_check(n))"
   ]
  },
  {
   "cell_type": "markdown",
   "metadata": {},
   "source": [
    "Note: remember to add print at the end of the code to print the result."
   ]
  },
  {
   "cell_type": "markdown",
   "metadata": {},
   "source": [
    "# 9-1：數字總和排序\n",
    "Description: 給定一個 list ，排序規則：依照數字的每個位數總和（ex：123 的各個位數總和為 6 ），由小到大排，並且輸出。\n",
    "\n",
    "Input: 給定一行輸入，包含數個整數，以空白為間隔，請將之轉換成一個 list\n",
    "\n",
    "Output: 輸出為一行，包含一個內容為整數的串列"
   ]
  },
  {
   "cell_type": "code",
   "execution_count": 26,
   "metadata": {},
   "outputs": [
    {
     "name": "stdout",
     "output_type": "stream",
     "text": [
      "[221, 5, 123]\n"
     ]
    }
   ],
   "source": [
    "def sum_num(num):\n",
    "    digits = [int(digit) for digit in str(num)]\n",
    "    total = sum(digits)\n",
    "    return total\n",
    "\n",
    "str_list = input().split()\n",
    "int_list = [int(num_str) for num_str in str_list]\n",
    "print(sorted(int_list, key = sum_num))"
   ]
  },
  {
   "cell_type": "markdown",
   "metadata": {},
   "source": [
    "# 自訂費式數列\n",
    "Description: 已知 f(0) = 0，f(1) = 1，f(2) = 2，f(n) = f(n-1) + f(n-2) + f(n-3)。輸入數字 n ，輸出 f(n)。\n",
    "\n",
    "Input: 輸入為一行，包含一個正整數 n\n",
    "\n",
    "Output: 請輸出 f(n)\n"
   ]
  },
  {
   "cell_type": "code",
   "execution_count": 18,
   "metadata": {},
   "outputs": [
    {
     "data": {
      "text/plain": [
       "3"
      ]
     },
     "execution_count": 18,
     "metadata": {},
     "output_type": "execute_result"
    }
   ],
   "source": [
    "def f(x):\n",
    "    if x == 0:\n",
    "        return 0\n",
    "    elif x == 1:\n",
    "        return 1\n",
    "    elif x == 2:\n",
    "        return 2\n",
    "    else:\n",
    "        return f(x-1) + f(x-2) + f(x-3)\n",
    "    \n",
    "n = int(input())\n",
    "f(n)"
   ]
  },
  {
   "cell_type": "markdown",
   "metadata": {},
   "source": [
    "# 字串反轉排序\n",
    "Description: 給定一個 list ，內容物皆為字串(str)，排序規則：依照字串反轉的結果（ex：'abc' 反轉後是 'cba' ），由小到大排並輸出。\n",
    "\n",
    "Input: 給定一行輸入，包含數個字串以空白間隔，請將之轉換成一個 list\n",
    "\n",
    "Output: 請輸出排序後的串列\n"
   ]
  },
  {
   "cell_type": "code",
   "execution_count": 22,
   "metadata": {},
   "outputs": [
    {
     "name": "stdout",
     "output_type": "stream",
     "text": [
      "['cob', 'btc', 'eth', 'mith']\n"
     ]
    }
   ],
   "source": [
    "def reversed(str):\n",
    "    return str[::-1]\n",
    "\n",
    "str_list = input().split()\n",
    "print(sorted(str_list, key=reversed))"
   ]
  }
 ],
 "metadata": {
  "kernelspec": {
   "display_name": "venv",
   "language": "python",
   "name": "python3"
  },
  "language_info": {
   "codemirror_mode": {
    "name": "ipython",
    "version": 3
   },
   "file_extension": ".py",
   "mimetype": "text/x-python",
   "name": "python",
   "nbconvert_exporter": "python",
   "pygments_lexer": "ipython3",
   "version": "3.9.13"
  }
 },
 "nbformat": 4,
 "nbformat_minor": 2
}
