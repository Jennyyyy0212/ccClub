{
 "cells": [
  {
   "cell_type": "code",
   "execution_count": 17,
   "metadata": {},
   "outputs": [
    {
     "name": "stdout",
     "output_type": "stream",
     "text": [
      "2\n"
     ]
    }
   ],
   "source": [
    "#  奇偶遞迴\n",
    "x = int(input())\n",
    "def rec_f(x):\n",
    "    if x == 1:\n",
    "        return 1\n",
    "    elif x%2 == 0: \n",
    "        output = x\n",
    "        for i in range(1, x+1):\n",
    "            if output % 2 == 0:\n",
    "                i += 1\n",
    "                output = output // 2\n",
    "            else:\n",
    "                break\n",
    "        return rec_f(output)\n",
    "    else:\n",
    "        return rec_f(x//2) + rec_f(x//2+1)\n",
    "\n",
    "print(rec_f(x))"
   ]
  },
  {
   "cell_type": "code",
   "execution_count": 49,
   "metadata": {},
   "outputs": [
    {
     "name": "stdout",
     "output_type": "stream",
     "text": [
      "LUB\n"
     ]
    }
   ],
   "source": [
    "# 二十六進位\n",
    "i = int(input())\n",
    "l = []\n",
    "for index in range(0, i):\n",
    "    if i >= 26:\n",
    "        l.append(i%26)\n",
    "        i = i//26\n",
    "    else:\n",
    "        #l.append(i)\n",
    "        break\n",
    "l.append(i)\n",
    "s = \"\"\n",
    "for index in l[::-1]:\n",
    "    s += chr(index+65)\n",
    "print(s)\n"
   ]
  },
  {
   "cell_type": "code",
   "execution_count": 17,
   "metadata": {},
   "outputs": [
    {
     "name": "stdout",
     "output_type": "stream",
     "text": [
      "9 12 14 6 2 3 5 4 7 11 13 8 10 1 0 \n"
     ]
    }
   ],
   "source": [
    "# 比賽排名\n",
    "n = [int(i) for i in input().split()]\n",
    "final = []\n",
    "sorted_n = sorted(n)\n",
    "for index in range(0,len(sorted_n)):\n",
    "    for i in range(0,len(n)):\n",
    "        if n[i] == sorted_n[index]:\n",
    "            final.append(i)\n",
    "            n[i] = -1\n",
    "            break\n",
    "s = \"\"\n",
    "for index in final:\n",
    "    s += str(index) + \" \"\n",
    "print(s)"
   ]
  },
  {
   "cell_type": "code",
   "execution_count": 10,
   "metadata": {},
   "outputs": [
    {
     "name": "stdout",
     "output_type": "stream",
     "text": [
      "4\n"
     ]
    }
   ],
   "source": [
    "# 最長集合\n",
    "n = [int(i) for i in input().split(\",\")]\n",
    "max = 0\n",
    "for j in range(0,len(n)):\n",
    "    s = set()\n",
    "    i = j\n",
    "    while i in range(0,len(n)):\n",
    "        if n[i] not in s:\n",
    "            s.add(n[i])\n",
    "            i = n[i]\n",
    "        else:\n",
    "            break\n",
    "    if len(s) > max:\n",
    "        max = len(s)\n",
    "print(max)\n"
   ]
  }
 ],
 "metadata": {
  "kernelspec": {
   "display_name": "venv",
   "language": "python",
   "name": "python3"
  },
  "language_info": {
   "codemirror_mode": {
    "name": "ipython",
    "version": 3
   },
   "file_extension": ".py",
   "mimetype": "text/x-python",
   "name": "python",
   "nbconvert_exporter": "python",
   "pygments_lexer": "ipython3",
   "version": "3.9.13"
  }
 },
 "nbformat": 4,
 "nbformat_minor": 2
}
