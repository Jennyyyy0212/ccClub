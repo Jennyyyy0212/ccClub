{
 "cells": [
  {
   "cell_type": "code",
   "execution_count": 39,
   "metadata": {},
   "outputs": [
    {
     "name": "stdout",
     "output_type": "stream",
     "text": [
      "0 16\n",
      "102030405060708090 902030405060708010 0 16\n"
     ]
    }
   ],
   "source": [
    "# 數字交換最大值\n",
    "n = input() \n",
    "final = int(n) \n",
    "test = list(n) \n",
    "max_d = 0 \n",
    "for i in range(len(n)):\n",
    "    max_d = i\n",
    "    if i == test.index(max(test[i:]),i):\n",
    "        continue\n",
    "    for j in range(i+1,len(n)):\n",
    "        if test[j] >= test[max_d] and test[j] != \"0\": \n",
    "            max_d = j\n",
    "    if max_d != i:\n",
    "        test[max_d], test[i] = test[i], test[max_d]\n",
    "        break\n",
    "new_n = int(\"\".join(test))\n",
    "if new_n > final:\n",
    "    final = new_n\n",
    "print(new_n)"
   ]
  },
  {
   "cell_type": "code",
   "execution_count": 65,
   "metadata": {},
   "outputs": [
    {
     "name": "stdout",
     "output_type": "stream",
     "text": [
      "泱泱 100\n",
      "小迪 25\n",
      "國國 100\n",
      "66.67% 100.0% 66.67% 66.67%\n"
     ]
    }
   ],
   "source": [
    "# 改考卷\n",
    "answer = list(input().replace(\" \",\"\"))\n",
    "point = 100/len(answer)\n",
    "n = int(input())\n",
    "scores = {}\n",
    "correct_count = [0] * len(answer)\n",
    "student_info = [input() for _ in range(n)]\n",
    "for i in range(n):\n",
    "    student, *student_a = student_info[i].split()\n",
    "    student_correct = 0\n",
    "    student_a = [i for strings in student_a for i in strings]\n",
    "    for id, (i, j) in enumerate(zip(answer, student_a)):\n",
    "        if i == j:\n",
    "            correct_count[id] += 1\n",
    "            student_correct += 1\n",
    "    scores[student] = int(point * student_correct)\n",
    "\n",
    "for student, score in scores.items():\n",
    "    print(student, score)\n",
    "average = \" \".join(f\"{round(count/n*100, 2)}%\" for count in correct_count)\n",
    "print(average)\n"
   ]
  },
  {
   "cell_type": "code",
   "execution_count": 76,
   "metadata": {},
   "outputs": [
    {
     "name": "stdout",
     "output_type": "stream",
     "text": [
      "1 2 3\n",
      "5 6 7\n"
     ]
    }
   ],
   "source": [
    "# 連續整數分堆\n",
    "n = [int(i) for i in input().split()]\n",
    "result = []\n",
    "s = []\n",
    "for i in range(len(n)-1):\n",
    "    s.append(n[i])\n",
    "    if n[i+1] != n[i] + 1:\n",
    "        result.append(s)\n",
    "        s = []\n",
    "s.append(n[-1]) \n",
    "result.append(s)\n",
    "for i in result:\n",
    "    print(\" \".join(map(str,i)))\n"
   ]
  },
  {
   "cell_type": "code",
   "execution_count": 3,
   "metadata": {},
   "outputs": [
    {
     "name": "stdout",
     "output_type": "stream",
     "text": [
      "103\n",
      "1\n"
     ]
    }
   ],
   "source": [
    "# 出裝備\n",
    "n = int(input())\n",
    "formulas = [input().split() for _ in range(n)]\n",
    "n1 = int(input())\n",
    "wanted = [input() for _ in range(n1)]\n",
    "def find(formulas, wanted):\n",
    "    formulas_dic = {formula[0]:formula[1:] for formula in formulas}\n",
    "\n",
    "    def cost(item):\n",
    "        if item not in formulas_dic.keys():\n",
    "            return 0\n",
    "        formula = formulas_dic[item]\n",
    "        if len(formula) == 1:\n",
    "            return int(formula[0])\n",
    "        return int(formula[0]) + sum(cost(requirement) for requirement in formula[1:])\n",
    "    return [cost(p) for p in wanted]\n",
    "\n",
    "print(\"\\n\".join(map(str,find(formulas,wanted))))\n"
   ]
  },
  {
   "cell_type": "code",
   "execution_count": 15,
   "metadata": {},
   "outputs": [
    {
     "name": "stdout",
     "output_type": "stream",
     "text": [
      "True\n"
     ]
    }
   ],
   "source": [
    "# 手拉手團康遊戲\n",
    "def is_single_group(groups):\n",
    "    return len(groups) == 1\n",
    "\n",
    "people = []\n",
    "try:\n",
    "    line = input()\n",
    "    while line != \"\":\n",
    "        people.append(set(line.split()))\n",
    "        line = input()\n",
    "except EOFError:\n",
    "    pass  # Ignore EOFError:\n",
    "\n",
    "groups = []\n",
    "for relation in people:\n",
    "    related_groups = [group for group in groups if relation & group]\n",
    "    if related_groups:\n",
    "        merged_group = set.union(*related_groups, relation)\n",
    "        groups = [group for group in groups if group not in related_groups]\n",
    "        groups.append(merged_group)\n",
    "    else:\n",
    "        groups.append(relation)\n",
    "\n",
    "print(is_single_group(groups))"
   ]
  },
  {
   "cell_type": "code",
   "execution_count": 1,
   "metadata": {},
   "outputs": [
    {
     "name": "stdout",
     "output_type": "stream",
     "text": [
      "jnkjnkj-juuhujh-jijij\n"
     ]
    }
   ],
   "source": [
    "# 不知道要輸入幾行\n",
    "sentences = []\n",
    "try:\n",
    "    user_input = input()\n",
    "    while user_input != \"\":\n",
    "        sentences.append(user_input)\n",
    "        user_input = input()\n",
    "except EOFError:\n",
    "    pass  # Ignore EOFError\n",
    "      \n",
    "f = \"-\".join(sentences)\n",
    "print(f)"
   ]
  },
  {
   "cell_type": "code",
   "execution_count": null,
   "metadata": {},
   "outputs": [],
   "source": []
  }
 ],
 "metadata": {
  "kernelspec": {
   "display_name": "venv",
   "language": "python",
   "name": "python3"
  },
  "language_info": {
   "codemirror_mode": {
    "name": "ipython",
    "version": 3
   },
   "file_extension": ".py",
   "mimetype": "text/x-python",
   "name": "python",
   "nbconvert_exporter": "python",
   "pygments_lexer": "ipython3",
   "version": "3.9.13"
  }
 },
 "nbformat": 4,
 "nbformat_minor": 2
}
