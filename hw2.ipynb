{
 "cells": [
  {
   "cell_type": "code",
   "execution_count": 11,
   "metadata": {},
   "outputs": [
    {
     "name": "stdout",
     "output_type": "stream",
     "text": [
      "肉肉 韓國魚\n"
     ]
    }
   ],
   "source": [
    "# 小明買宵夜\n",
    "s = input().split()\n",
    "p = input().split()\n",
    "m = int(input())\n",
    "price = {}\n",
    "for i in range(0,len(s)):\n",
    "    price[s[i]] = int(p[i])\n",
    "def find(price, m):\n",
    "    for i in price.keys():\n",
    "        for j in price.keys():\n",
    "            if i != j and price[i] + price[j] == m:\n",
    "                print(i, j)\n",
    "                return\n",
    "find(price, m)\n"
   ]
  },
  {
   "cell_type": "code",
   "execution_count": 22,
   "metadata": {},
   "outputs": [
    {
     "name": "stdout",
     "output_type": "stream",
     "text": [
      "3 2 0\n",
      "100.0\n"
     ]
    }
   ],
   "source": [
    "# 吃貨茜茜\n",
    "stom = int(input())\n",
    "food = {}\n",
    "for i in range(3):\n",
    "    p = int(input())\n",
    "    n = int(input())\n",
    "    food[p] = n\n",
    "\n",
    "def eat(food,stom):\n",
    "    v = stom\n",
    "    n_list = []\n",
    "    sum_n = 0\n",
    "    sum_p = 0\n",
    "    earn = 0\n",
    "    cost = 450\n",
    "    for i in food.keys():\n",
    "        n = 0\n",
    "        while v >= food[i]:\n",
    "            n+=1\n",
    "            v -= food[i]\n",
    "        n_list.append(n)\n",
    "        sum_n += n\n",
    "        sum_p += n * i\n",
    "\n",
    "    if sum_n < 20:\n",
    "        earn = sum_p - cost\n",
    "    elif sum_n < 30:\n",
    "        earn = sum_p - cost*0.8\n",
    "    else:\n",
    "        earn = sum_p - cost*0.8 + 900\n",
    "    return n_list, float(earn)\n",
    "\n",
    "n_list, earn = eat(food,stom)\n",
    "s = ' '.join(str(i) for i in n_list)\n",
    "print(s)\n",
    "print(earn)"
   ]
  },
  {
   "cell_type": "code",
   "execution_count": 20,
   "metadata": {},
   "outputs": [
    {
     "data": {
      "text/plain": [
       "8"
      ]
     },
     "execution_count": 20,
     "metadata": {},
     "output_type": "execute_result"
    }
   ],
   "source": [
    "len(s)"
   ]
  },
  {
   "cell_type": "code",
   "execution_count": 9,
   "metadata": {},
   "outputs": [
    {
     "data": {
      "text/plain": [
       "6"
      ]
     },
     "execution_count": 9,
     "metadata": {},
     "output_type": "execute_result"
    }
   ],
   "source": [
    "len(s)"
   ]
  },
  {
   "cell_type": "code",
   "execution_count": 38,
   "metadata": {},
   "outputs": [
    {
     "name": "stdout",
     "output_type": "stream",
     "text": [
      "A\n",
      "ab\n",
      "123\n",
      "BCDE\n",
      "cdefg\n"
     ]
    }
   ],
   "source": [
    "# 凱凱堆積木 II\n",
    "level = int(input())\n",
    "top = int(input())\n",
    "\n",
    "def build(level, top):\n",
    "    start_Upper = 65\n",
    "    start_Lower = 97 \n",
    "    start_num = 49 #1\n",
    "    tower = []\n",
    "    current_level = 1\n",
    "    num_level = top\n",
    "    while current_level <= level:\n",
    "        s = \"\"\n",
    "        if current_level % 3 == 1:\n",
    "            for _ in range(num_level):\n",
    "                s += chr(start_Upper)\n",
    "                start_Upper = (start_Upper - 65 + 1) % 26 + 65\n",
    "        elif current_level % 3 == 2:\n",
    "            for _ in range(num_level):\n",
    "                s += chr(start_Lower)\n",
    "                start_Lower = (start_Lower - 97 + 1) % 26 + 97\n",
    "        else:\n",
    "            for _ in range(num_level):\n",
    "                s += chr(start_num)\n",
    "                start_num = (start_num - 48 + 1) % 10 + 48\n",
    "        tower.append(s)\n",
    "        num_level += 1\n",
    "        current_level += 1\n",
    "    return tower\n",
    "tower = build(level, top)\n",
    "for i in tower:\n",
    "    print(i)\n"
   ]
  },
  {
   "cell_type": "code",
   "execution_count": 17,
   "metadata": {},
   "outputs": [
    {
     "name": "stdout",
     "output_type": "stream",
     "text": [
      "True\n"
     ]
    }
   ],
   "source": [
    "# 直角三角形\n",
    "c = int(input())\n",
    "l = [int(i) for i in input().split()]\n",
    "def find(c,l):\n",
    "    a = l[0] if l[0] < l[1] else l[1]\n",
    "    b = l[1] if l[1] > l[0] else l[0]\n",
    "    for i in range(a,b+1):\n",
    "        for j in range(a,b+1):\n",
    "            if i**2 + j**2 == c**2:\n",
    "                return True\n",
    "    return False\n",
    "print(find(c,l))"
   ]
  },
  {
   "cell_type": "code",
   "execution_count": 55,
   "metadata": {},
   "outputs": [
    {
     "name": "stdout",
     "output_type": "stream",
     "text": [
      "a\n"
     ]
    }
   ],
   "source": [
    "# 人氣王\n",
    "n = input().split()\n",
    "def count(n):\n",
    "    d = {}\n",
    "    for i in n:\n",
    "        if i in d:\n",
    "            d[i] += 1\n",
    "        else:\n",
    "            d[i] = 1\n",
    "    return d\n",
    "count_n = count(n)\n",
    "sorted_n = sorted(n, key=lambda x: (count_n[x], x), reverse=True)\n",
    "print(sorted_n[0])"
   ]
  }
 ],
 "metadata": {
  "kernelspec": {
   "display_name": "venv",
   "language": "python",
   "name": "python3"
  },
  "language_info": {
   "codemirror_mode": {
    "name": "ipython",
    "version": 3
   },
   "file_extension": ".py",
   "mimetype": "text/x-python",
   "name": "python",
   "nbconvert_exporter": "python",
   "pygments_lexer": "ipython3",
   "version": "3.9.13"
  }
 },
 "nbformat": 4,
 "nbformat_minor": 2
}
