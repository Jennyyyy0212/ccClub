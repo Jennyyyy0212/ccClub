{
 "cells": [
  {
   "cell_type": "markdown",
   "metadata": {},
   "source": [
    "# HW 1\n",
    "### ASCII code\n",
    "- Description: 如同我們剛才所說的，ASCII code 是用來代表字元的一種編碼方式，可以透過 ord(character) 以及 chr(code) 來進行轉換：給定一個字串，請輸出所有字元的 ASCII code\n",
    "- Input: 輸入為一行，包含一個長度為n的字串\n",
    "\n",
    "- Output: 輸出為 n 行，各包含一個整數代碼\n"
   ]
  },
  {
   "cell_type": "code",
   "execution_count": 9,
   "metadata": {},
   "outputs": [
    {
     "name": "stdout",
     "output_type": "stream",
     "text": [
      "99\n",
      "99\n",
      "67\n",
      "108\n",
      "117\n",
      "98\n"
     ]
    }
   ],
   "source": [
    "word = input()\n",
    "for i in word:\n",
    "    print(ord(i))"
   ]
  },
  {
   "cell_type": "markdown",
   "metadata": {},
   "source": [
    "### [9-1] 移動平均\n",
    "- Description: 移動平均是一種將時間序列資料消除雜訊以看清趨勢的方法。強強想要計算給定串列中，n 個數值的移動平均，例如在串列 [1,2,3,4,5] 中，取 3 個數值的移動平均是 [2.0, 3.0, 4.0]；在串列 [9,8,7,6,5,4,3,2] 中，取 5 個數值的移動平均是 [7.0, 6.0, 5.0, 4.0]。但是不知道為什麼程式計算有問題，你可以幫幫他嗎？\n",
    "- Input: 輸入為 2 行，第一行為要取的資料範圍。第二行為給定的串列。\n",
    "- Output: 輸出為 1 行，為移動平均的串列"
   ]
  },
  {
   "cell_type": "code",
   "execution_count": 1,
   "metadata": {},
   "outputs": [
    {
     "name": "stdout",
     "output_type": "stream",
     "text": [
      "[]\n"
     ]
    }
   ],
   "source": [
    "output = []\n",
    "n = int(input())\n",
    "data = [int(i) for i in input().replace('[', '').replace(']', '').split(',')] \n",
    "if n > 0:\n",
    "    for i in range(len(data) - n + 1):\n",
    "        output.append(sum(data[i : i+n]) / n)\n",
    "print(output)"
   ]
  },
  {
   "cell_type": "markdown",
   "metadata": {},
   "source": [
    "### [9-1] 字串擷取\n",
    "- Description: 在進行自動化網路擷取資料的過程中，常常會遇到一串文字之中只有一部份是自己想要的，或是要把文字資料整理成表格的狀況。強強最近想要報名網路課程，如果課程額滿了就不能報名，課程的價格也是要考量的點，所以這些資料都需要記錄下來，舉例來說，他想要將'A課程 報名人數/招生人數/費用:60/100/600'、'B課程 報名人數/招生人數/費用:23/30/200'整理成字典{'A課程': [60, 100, '60%', '600'], 'B課程': [23, 30, '77%', '200']}其中，招生人數後面的百分比是報名的進度，100% 表示額滿。\n",
    "\n",
    "- 以下是他的程式碼，請將程式碼的錯誤去除。"
   ]
  },
  {
   "cell_type": "code",
   "execution_count": 13,
   "metadata": {},
   "outputs": [
    {
     "name": "stdout",
     "output_type": "stream",
     "text": [
      "{'A課程': [60, 100, '60%', '600'], 'B課程': [23, 30, '77%', '200']}\n"
     ]
    }
   ],
   "source": [
    "s = ['A課程 報名人數/招生人數/費用:60/100/600', 'B課程 報名人數/招生人數/費用:23/30/200']\n",
    "course = {}\n",
    "\n",
    "for i in range(len(s)):\n",
    "    sign_up_num = int(s[i].split(':')[1].split('/')[0])\n",
    "    admissions_num = int(s[i].split(':')[1].split('/')[1])\n",
    "    fee = s[i].split(':')[1].split('/')[2]\n",
    "    schedule = str(round(sign_up_num / admissions_num * 100)) + '%'\n",
    "    course[s[i].split()[0]] = [sign_up_num, admissions_num, schedule, fee]\n",
    "    \n",
    "print(course)"
   ]
  },
  {
   "cell_type": "markdown",
   "metadata": {},
   "source": [
    "### 醜數\n",
    "- Description: 醜數就是因數裡面只含有 2、3 和 5 的數（不包含 1 以及自己, 比方說 6 的因數只含有 2、3，所以他就是醜數（一般來說 1 被我們特別歸類在醜數）, 而 14 的因數含有 7 所以不是醜數\n",
    "- Input: 輸入為一正整數\n",
    "- Output: 輸出為 True 或是 False，取決於他是不是醜數"
   ]
  },
  {
   "cell_type": "code",
   "execution_count": 29,
   "metadata": {},
   "outputs": [
    {
     "name": "stdout",
     "output_type": "stream",
     "text": [
      "False\n"
     ]
    }
   ],
   "source": [
    "i = int(input())\n",
    "if i == 1:\n",
    "    print(True)\n",
    "elif i == 2 or i == 3 or i == 5:\n",
    "    print(False)\n",
    "elif i % 2 == 0:\n",
    "    i2 = i //2\n",
    "    if i2 == 1:\n",
    "        print(True)\n",
    "    elif i2 % 3 == 0:\n",
    "        i23 = i2 // 3\n",
    "        if i23 == 1:\n",
    "            print(True)\n",
    "        elif i23 % 5 == 0:\n",
    "            i235 = i23 // 5\n",
    "            if i235 == 1:\n",
    "                print(True)\n",
    "            else:\n",
    "                print(False)\n",
    "        else:\n",
    "            print(False)\n",
    "    else:\n",
    "        print(False)\n",
    "elif i % 3 == 0:\n",
    "    i3 = i // 3\n",
    "    if i3 == 1:\n",
    "        print(True)\n",
    "    elif i3 % 5 == 0:\n",
    "        i35 = i3 // 5\n",
    "        if i35 == 1:\n",
    "            print(True)\n",
    "        else:\n",
    "            print(False)\n",
    "    else:\n",
    "        print(False)\n",
    "elif i % 5 == 0:\n",
    "    i5 = i // 5\n",
    "    if i5 == 1:\n",
    "        print(True)\n",
    "    else:\n",
    "        print(False)\n",
    "else:\n",
    "    print(False)\n"
   ]
  },
  {
   "cell_type": "code",
   "execution_count": 36,
   "metadata": {},
   "outputs": [
    {
     "name": "stdout",
     "output_type": "stream",
     "text": [
      "True\n"
     ]
    }
   ],
   "source": [
    "num = int(input())\n",
    "int_list = [2,3,5]\n",
    "while num != 1:\n",
    "    for j in int_list:\n",
    "        if num % j == 0:\n",
    "            num = num // j\n",
    "            break\n",
    "    else:\n",
    "        print(False)\n",
    "        break\n",
    "else:\n",
    "    print(True)"
   ]
  },
  {
   "cell_type": "markdown",
   "metadata": {},
   "source": [
    "## reflection\n",
    "- Didn't focused enough on the question, and didn't realize that the question is asking for\n",
    "\n",
    "## learning\n",
    "- use `else` in `while` section so we can use `break` in loop\n",
    "- use the list and while loop to solve the uglynumber questions\n",
    "- only can use `break` and `continue` in loop instead of if statement \n"
   ]
  }
 ],
 "metadata": {
  "kernelspec": {
   "display_name": "venv",
   "language": "python",
   "name": "python3"
  },
  "language_info": {
   "codemirror_mode": {
    "name": "ipython",
    "version": 3
   },
   "file_extension": ".py",
   "mimetype": "text/x-python",
   "name": "python",
   "nbconvert_exporter": "python",
   "pygments_lexer": "ipython3",
   "version": "3.9.13"
  }
 },
 "nbformat": 4,
 "nbformat_minor": 2
}
