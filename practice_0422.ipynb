{
 "cells": [
  {
   "cell_type": "code",
   "execution_count": 1,
   "metadata": {},
   "outputs": [
    {
     "name": "stdout",
     "output_type": "stream",
     "text": [
      "apple\n",
      "pine\n"
     ]
    }
   ],
   "source": [
    "# 1-2：輸出順序對調\n",
    "s1 = input()\n",
    "s2 = input()\n",
    "print(s2)\n",
    "print(s1)\n",
    "\n"
   ]
  },
  {
   "cell_type": "code",
   "execution_count": 2,
   "metadata": {},
   "outputs": [
    {
     "name": "stdout",
     "output_type": "stream",
     "text": [
      "19014\n",
      "95279487\n"
     ]
    }
   ],
   "source": [
    "# 2-1：數字及字串和\n",
    "n1 = input()\n",
    "n2 = input()\n",
    "print(int(n1) + int(n2))\n",
    "print(n1 + n2)"
   ]
  },
  {
   "cell_type": "code",
   "execution_count": 3,
   "metadata": {},
   "outputs": [
    {
     "name": "stdout",
     "output_type": "stream",
     "text": [
      "True\n"
     ]
    }
   ],
   "source": [
    "# 2-2：偶數\n",
    "n = int(input())\n",
    "if n % 2 == 0:\n",
    "    print(\"True\")\n",
    "else:\n",
    "    print(\"False\")"
   ]
  },
  {
   "cell_type": "code",
   "execution_count": 4,
   "metadata": {},
   "outputs": [
    {
     "name": "stdout",
     "output_type": "stream",
     "text": [
      "True\n"
     ]
    }
   ],
   "source": [
    "# 3-1：字串長度\n",
    "s = input()\n",
    "n = int(input())\n",
    "if len(s) == n:\n",
    "    print(\"True\")\n",
    "else:   \n",
    "    print(\"False\")"
   ]
  },
  {
   "cell_type": "code",
   "execution_count": 5,
   "metadata": {},
   "outputs": [
    {
     "name": "stdout",
     "output_type": "stream",
     "text": [
      "HELLO\n",
      "hello\n"
     ]
    }
   ],
   "source": [
    "# 3-2：大小寫\n",
    "s = input()\n",
    "print(s.upper())\n",
    "print(s.lower())"
   ]
  },
  {
   "cell_type": "code",
   "execution_count": 6,
   "metadata": {},
   "outputs": [
    {
     "name": "stdout",
     "output_type": "stream",
     "text": [
      "888888888888\n",
      "1212121212121212\n"
     ]
    }
   ],
   "source": [
    "# 3-3：重複輸出\n",
    "n1 = input()\n",
    "n2 = input()\n",
    "print(n1 * int(n2))\n",
    "print(n2 * int(n1))"
   ]
  },
  {
   "cell_type": "code",
   "execution_count": 7,
   "metadata": {},
   "outputs": [
    {
     "name": "stdout",
     "output_type": "stream",
     "text": [
      "HelloolleH\n"
     ]
    }
   ],
   "source": [
    "# 3-4：自己回文\n",
    "s = input()\n",
    "print(s + s[::-1])"
   ]
  },
  {
   "cell_type": "code",
   "execution_count": 8,
   "metadata": {},
   "outputs": [
    {
     "name": "stdout",
     "output_type": "stream",
     "text": [
      "Success\n"
     ]
    }
   ],
   "source": [
    "# 4-1：密碼強度\n",
    "s = input()\n",
    "if len(s) >= 8:\n",
    "    print(\"Success\")\n",
    "else:\n",
    "    print(\"Fail\")"
   ]
  },
  {
   "cell_type": "code",
   "execution_count": 9,
   "metadata": {},
   "outputs": [
    {
     "name": "stdout",
     "output_type": "stream",
     "text": [
      "Error\n"
     ]
    }
   ],
   "source": [
    "# 4-2：及格分數\n",
    "n = int(input())\n",
    "if n < 0 or n > 100:\n",
    "    print(\"Error\")\n",
    "elif n >= 60:\n",
    "    print(\"Pass\")\n",
    "else:\n",
    "    print(\"Fail\")"
   ]
  },
  {
   "cell_type": "code",
   "execution_count": 12,
   "metadata": {},
   "outputs": [
    {
     "name": "stdout",
     "output_type": "stream",
     "text": [
      "False\n"
     ]
    }
   ],
   "source": [
    "# 4-3：三角形\n",
    "a = int(input())\n",
    "b = int(input())\n",
    "c = int(input())\n",
    "if a+b>c and a+c>b and b+c>a:\n",
    "    print(\"True\")\n",
    "else:  \n",
    "    print(\"False\")"
   ]
  },
  {
   "cell_type": "code",
   "execution_count": 13,
   "metadata": {},
   "outputs": [
    {
     "name": "stdout",
     "output_type": "stream",
     "text": [
      "True\n"
     ]
    }
   ],
   "source": [
    "# 4-4：直角三角形\n",
    "a = int(input())\n",
    "b = int(input())\n",
    "c = int(input())\n",
    "if a**2 + b**2 == c**2 or a**2 + c**2 == b**2 or c**2 + b**2 == a**2 :\n",
    "    print(\"True\")\n",
    "else:\n",
    "    print(\"False\")"
   ]
  },
  {
   "cell_type": "code",
   "execution_count": null,
   "metadata": {},
   "outputs": [],
   "source": [
    "# 5-1：翻箱倒櫃\n",
    "list1 = input().split()\n",
    "list2 = input().split()\n",
    "s = input()\n",
    "if s in list1 or s in list2:\n",
    "    print(\"True\")\n",
    "else:\n",
    "    print(\"False\")"
   ]
  },
  {
   "cell_type": "code",
   "execution_count": 14,
   "metadata": {},
   "outputs": [
    {
     "name": "stdout",
     "output_type": "stream",
     "text": [
      "1\n",
      "2\n",
      "5\n",
      "10\n"
     ]
    }
   ],
   "source": [
    "# 6-1：因數\n",
    "n = int(input())\n",
    "for i in range(1,n+1):\n",
    "    if n % i == 0:\n",
    "        print(i)"
   ]
  },
  {
   "cell_type": "code",
   "execution_count": 21,
   "metadata": {},
   "outputs": [
    {
     "name": "stdout",
     "output_type": "stream",
     "text": [
      "1\n",
      "4\n",
      "9\n"
     ]
    }
   ],
   "source": [
    "# 6-2：完全平方數\n",
    "n = int(input())\n",
    "for i in range(1,int(n**0.5)+1):\n",
    "    if i**2 < n:\n",
    "        print(i**2)"
   ]
  },
  {
   "cell_type": "code",
   "execution_count": 30,
   "metadata": {},
   "outputs": [
    {
     "name": "stdout",
     "output_type": "stream",
     "text": [
      "1\n"
     ]
    }
   ],
   "source": [
    "# 6-3：母音種類個數\n",
    "s = input()\n",
    "vowel = \"aeiouAEIOU\"\n",
    "sum = 0\n",
    "for i in range(0,len(s)):\n",
    "    if s[i] in vowel:\n",
    "        sum+=1\n",
    "        vowel = vowel.replace(s[i],\"\") #replace() 函數是用來替換字串中的字符，但它不會修改原始的字串，而是返回一個新的字串\n",
    "print(sum)"
   ]
  },
  {
   "cell_type": "code",
   "execution_count": 33,
   "metadata": {},
   "outputs": [
    {
     "name": "stdout",
     "output_type": "stream",
     "text": [
      "18\n"
     ]
    }
   ],
   "source": [
    "# 6-4：數字和\n",
    "n = input()\n",
    "sum = 0\n",
    "for i in range(0,len(n)):\n",
    "    sum += int(n[i])\n",
    "print(sum)"
   ]
  },
  {
   "cell_type": "code",
   "execution_count": 36,
   "metadata": {},
   "outputs": [
    {
     "name": "stdout",
     "output_type": "stream",
     "text": [
      "****\n",
      "****\n",
      "****\n"
     ]
    }
   ],
   "source": [
    "# 7-1：長方星\n",
    "l = int(input())\n",
    "w = int(input())\n",
    "for i in range(0,w):\n",
    "    print(\"*\"*l)"
   ]
  },
  {
   "cell_type": "code",
   "execution_count": 41,
   "metadata": {},
   "outputs": [
    {
     "name": "stdout",
     "output_type": "stream",
     "text": [
      "+\n"
     ]
    }
   ],
   "source": [
    "# 7-2：加減長方形\n",
    "l = int(input())\n",
    "w = int(input())\n",
    "n = 2\n",
    "for i in range(0,w):\n",
    "    s =\"\"\n",
    "    for i in range(0,l):\n",
    "        if n %2 == 0:\n",
    "            s += \"+\"\n",
    "            n+=1\n",
    "        else:\n",
    "            s += \"-\"\n",
    "            n+=1\n",
    "    print(s)"
   ]
  },
  {
   "cell_type": "code",
   "execution_count": 47,
   "metadata": {},
   "outputs": [
    {
     "name": "stdout",
     "output_type": "stream",
     "text": [
      "30\n"
     ]
    }
   ],
   "source": [
    "# 8-1：乘積最大值\n",
    "def max_mul(l):\n",
    "    max = None\n",
    "    for i in range(0,len(l)-1):\n",
    "        if i == 0:\n",
    "            max = l[i]*l[i+1]\n",
    "        elif l[i]*l[i+1] > max:\n",
    "            max = l[i]*l[i+1]\n",
    "    return max\n",
    "\n",
    "        \n",
    "\n",
    "l = list(int(n) for n in input().split())\n",
    "print(max_mul(l))"
   ]
  }
 ],
 "metadata": {
  "kernelspec": {
   "display_name": "venv",
   "language": "python",
   "name": "python3"
  },
  "language_info": {
   "codemirror_mode": {
    "name": "ipython",
    "version": 3
   },
   "file_extension": ".py",
   "mimetype": "text/x-python",
   "name": "python",
   "nbconvert_exporter": "python",
   "pygments_lexer": "ipython3",
   "version": "3.9.13"
  }
 },
 "nbformat": 4,
 "nbformat_minor": 2
}
