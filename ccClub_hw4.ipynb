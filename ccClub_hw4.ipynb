{
 "cells": [
  {
   "cell_type": "code",
   "execution_count": 7,
   "metadata": {},
   "outputs": [
    {
     "name": "stdout",
     "output_type": "stream",
     "text": [
      "6000\n"
     ]
    }
   ],
   "source": [
    "# 凱凱包紅包\n",
    "def red(conditions, withg):\n",
    "    l = conditions.split()\n",
    "    place = l[0]\n",
    "    relation = l[1]\n",
    "    level_money = (1600, 1800, 2200, 2600, 2800, 3200, 3600, 6000, 6600, 8000)\n",
    "    place_level = {\"流水席\": 0, \"宴會廳\": 2, \"五星級飯店\": 4}\n",
    "    friend_level = {\"泛泛之交\": 0, \"普通朋友\": 1, \"好朋友\": 2, \"死黨\": 3}\n",
    "    i = place_level[place] + friend_level[relation]\n",
    "    if withg == 'Y':\n",
    "        i+=2\n",
    "    if relation == \"死黨\" and level_money[i] < 6000:\n",
    "        return 6000\n",
    "    else:\n",
    "        return level_money[i]\n",
    "\n",
    "c = input()\n",
    "withg = input()\n",
    "print(red(c,withg))\n"
   ]
  },
  {
   "cell_type": "code",
   "execution_count": 12,
   "metadata": {},
   "outputs": [
    {
     "name": "stdout",
     "output_type": "stream",
     "text": [
      "ABCxyz\n"
     ]
    }
   ],
   "source": [
    "# 又是喵球\n",
    "s = input()\n",
    "s = s.lower()\n",
    "new_s = \"\"\n",
    "for i in range(0,len(s)):\n",
    "    if s[i] <= \"m\":\n",
    "        new_s += s[i].upper()\n",
    "    else:\n",
    "        new_s += s[i].lower()\n",
    "print(new_s)"
   ]
  },
  {
   "cell_type": "code",
   "execution_count": 31,
   "metadata": {},
   "outputs": [],
   "source": [
    "# 平均成績\n",
    "num_students = int(input())\n",
    "student_dic ={}\n",
    "for _ in range(num_students):\n",
    "    student = input().split()\n",
    "    student_dic[int(student[0])] = int(student[1])\n",
    "list_studentid = input().split()\n",
    "sum = 0\n",
    "for id in list_studentid:\n",
    "    sum += student_dic[int(id)]\n",
    "print(round(sum/len(list_studentid),1))"
   ]
  },
  {
   "cell_type": "code",
   "execution_count": 27,
   "metadata": {},
   "outputs": [
    {
     "name": "stdout",
     "output_type": "stream",
     "text": [
      "apple approve "
     ]
    }
   ],
   "source": [
    "# 小明查單字\n",
    "s = input().split()\n",
    "c = input()\n",
    "l = []\n",
    "for i in range(len(s)):\n",
    "    if s[i].startswith(c):\n",
    "        l.append(s[i])\n",
    "for w in l:\n",
    "    print(w, end=\" \")"
   ]
  },
  {
   "cell_type": "code",
   "execution_count": 1,
   "metadata": {},
   "outputs": [
    {
     "name": "stdout",
     "output_type": "stream",
     "text": [
      "\n"
     ]
    }
   ],
   "source": [
    "o = input()\n",
    "print(o)"
   ]
  }
 ],
 "metadata": {
  "kernelspec": {
   "display_name": "venv",
   "language": "python",
   "name": "python3"
  },
  "language_info": {
   "codemirror_mode": {
    "name": "ipython",
    "version": 3
   },
   "file_extension": ".py",
   "mimetype": "text/x-python",
   "name": "python",
   "nbconvert_exporter": "python",
   "pygments_lexer": "ipython3",
   "version": "3.9.13"
  }
 },
 "nbformat": 4,
 "nbformat_minor": 2
}
