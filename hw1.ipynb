{
 "cells": [
  {
   "cell_type": "code",
   "execution_count": 12,
   "metadata": {},
   "outputs": [
    {
     "name": "stdout",
     "output_type": "stream",
     "text": [
      "pack3 has expired, it should not be sold.\n"
     ]
    }
   ],
   "source": [
    "# 月餅檢測\n",
    "from datetime import datetime\n",
    "full_price_date = datetime.strptime(\"2023-10-14\",\"%Y-%m-%d\")\n",
    "eight_price_date = datetime.strptime(\"2023-10-7\",\"%Y-%m-%d\")\n",
    "six_price_date = datetime.strptime(\"2023-9-27\",\"%Y-%m-%d\")\n",
    "prices = [60,70,80]\n",
    "box = [3,6,9,12]\n",
    "num = int(input())\n",
    "for i in range(0, num):\n",
    "    s = input().split(\",\")\n",
    "    try:\n",
    "        s[1] = datetime.strptime(s[1],\"%Y-%m-%d\")\n",
    "    except ValueError:\n",
    "        print(s[0],\"has labeling problem!\")\n",
    "        continue\n",
    "    if int(s[2]) not in prices or int(s[3]) not in box:\n",
    "        print(s[0],\"has labeling problem!\")\n",
    "        continue\n",
    "    price = int(s[2]) * int(s[3])\n",
    "    if s[1] < six_price_date:\n",
    "        print(s[0],\"has expired, it should not be sold.\")\n",
    "        continue\n",
    "    elif s[1] >= full_price_date:\n",
    "        end_price = price\n",
    "    elif s[1] >= eight_price_date:\n",
    "        end_price = price *0.8\n",
    "    elif s[1] >= six_price_date:\n",
    "        end_price = price *0.6\n",
    "    print(\"%s should be sold at price %d.\" % (s[0],end_price))\n",
    "\n"
   ]
  },
  {
   "cell_type": "code",
   "execution_count": 4,
   "metadata": {},
   "outputs": [
    {
     "name": "stdout",
     "output_type": "stream",
     "text": [
      "ccClub\n"
     ]
    }
   ],
   "source": [
    "#字串解密\n",
    "def get_new(string):\n",
    "    if len(string) == 0:\n",
    "        return \"\"\n",
    "    index = 1\n",
    "    newword = \"\"\n",
    "    for s in string:\n",
    "        asi = ord(s)\n",
    "        asi -= index\n",
    "        new_s = chr(asi)\n",
    "        newword += new_s\n",
    "        index += 1\n",
    "    return newword\n",
    "\n",
    "print(get_new(input()))\n"
   ]
  },
  {
   "cell_type": "code",
   "execution_count": 14,
   "metadata": {},
   "outputs": [
    {
     "name": "stdout",
     "output_type": "stream",
     "text": [
      "4\n"
     ]
    }
   ],
   "source": [
    "# 連續區間\n",
    "s = input().split(\"0\")\n",
    "block = 0\n",
    "for i in s:\n",
    "    if len(i) > 0:\n",
    "        block +=1\n",
    "print(block)"
   ]
  },
  {
   "cell_type": "code",
   "execution_count": 8,
   "metadata": {},
   "outputs": [
    {
     "name": "stdout",
     "output_type": "stream",
     "text": [
      "23075280930240000\n"
     ]
    }
   ],
   "source": [
    "# 連四相乘\n",
    "s = [int(i) for i in input().split()]\n",
    "print(max(s[0]*s[1]*s[-1]*s[-2], s[-1]*s[-2]*s[-3]*s[-4],s[0]*s[1]*s[2]*s[3],))\n"
   ]
  },
  {
   "cell_type": "code",
   "execution_count": 3,
   "metadata": {},
   "outputs": [
    {
     "name": "stdout",
     "output_type": "stream",
     "text": [
      "385\n"
     ]
    }
   ],
   "source": [
    "# 水果店老闆\n",
    "n = int(input())\n",
    "orange = 0\n",
    "for i in range(1,n+1):\n",
    "    orange = orange + i**2\n",
    "\n",
    "print(orange)"
   ]
  }
 ],
 "metadata": {
  "kernelspec": {
   "display_name": "venv",
   "language": "python",
   "name": "python3"
  },
  "language_info": {
   "codemirror_mode": {
    "name": "ipython",
    "version": 3
   },
   "file_extension": ".py",
   "mimetype": "text/x-python",
   "name": "python",
   "nbconvert_exporter": "python",
   "pygments_lexer": "ipython3",
   "version": "3.9.13"
  }
 },
 "nbformat": 4,
 "nbformat_minor": 2
}
